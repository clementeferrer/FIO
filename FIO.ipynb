{
 "cells": [
  {
   "cell_type": "markdown",
   "id": "3b55b9f1-4864-47ed-8263-3c68c2b130e8",
   "metadata": {},
   "source": [
    "#### Librerias"
   ]
  },
  {
   "cell_type": "code",
   "execution_count": null,
   "id": "912fb236-5cd1-4181-858d-aea6d367cefd",
   "metadata": {},
   "outputs": [],
   "source": [
    "import random\n",
    "from timeit import default_timer as timer\n",
    "import minizinc"
   ]
  },
  {
   "cell_type": "markdown",
   "id": "786fd29d-b156-44d3-bec3-549825d9181d",
   "metadata": {},
   "source": [
    "#### Hallar la ubicación del MiniZinc"
   ]
  },
  {
   "cell_type": "code",
   "execution_count": null,
   "id": "23b5dc14-9910-47e6-96dc-1abb50070d85",
   "metadata": {},
   "outputs": [],
   "source": [
    "my_driver = minizinc.find_driver([\"C:/Program Files/MiniZinc\"])\n",
    "my_driver.make_default()"
   ]
  },
  {
   "cell_type": "markdown",
   "id": "1200d822-51fe-439e-9c22-48b6fffba2a3",
   "metadata": {},
   "source": [
    "#### MiniZinc funciones"
   ]
  },
  {
   "cell_type": "code",
   "execution_count": null,
   "id": "1237e170-15cd-440f-a46d-647f1b6b6af4",
   "metadata": {},
   "outputs": [],
   "source": [
    "from minizinc import Instance, Model, Solver"
   ]
  },
  {
   "cell_type": "markdown",
   "id": "e4577698-34e5-4f50-aa52-0493a6b2c43f",
   "metadata": {},
   "source": [
    "#### Funcion que retorna en un arreglo la solución factible de MiniZinc"
   ]
  },
  {
   "cell_type": "code",
   "execution_count": null,
   "id": "d1f7d61e-0400-47f0-8693-588331ec6f07",
   "metadata": {},
   "outputs": [],
   "source": [
    "def satisfymini(archivo):\n",
    "    gecode = Solver.lookup(\"gecode\")\n",
    "\n",
    "    trivial = minizinc.Model([archivo])\n",
    "    instance = Instance(gecode, trivial)\n",
    "    # Find and print all intermediate solutions\n",
    "    result = instance.solve()\n",
    "    s=[]\n",
    "    for i in range(1,n+1):\n",
    "        variable=\"x\" + str(i)\n",
    "        s.append(int(result[variable]))\n",
    "    return(s)"
   ]
  },
  {
   "cell_type": "markdown",
   "id": "12358587-c5d2-46fe-a1fd-93f0621b397e",
   "metadata": {},
   "source": [
    "#### Proyecto 2 - Generador de instancias modificado"
   ]
  },
  {
   "cell_type": "code",
   "execution_count": null,
   "id": "51c649e7-df1f-49c2-80ee-17850a923d46",
   "metadata": {},
   "outputs": [],
   "source": [
    "for t in range (0,1):\n",
    "    n= 50 #cantidad de variable\n",
    "    mv=4 #cantidad maxima de vecinos \n",
    "    mn=1 #cantidad minima de vecionos\n",
    "    z=random.randint(1,int(n/3))    \n",
    "    ar=\"datos\"+str(t+1)+\".lp\"\n",
    "    ar2=\"datos2\"+str(t+1)+\".mzn\"\n",
    "    ar3=\"restriccion.txt\"\n",
    "    archi1=open(ar,\"w\")\n",
    "    archi2=open(ar2,\"w\")\n",
    "    archi3=open(ar3,\"w\")\n",
    "    archi1.write(\"min: \") \n",
    "    for i in range (0,n):\n",
    "        archi2.write(\"var 0..1: x\"+str(i+1)+\";\\n\")\n",
    "    archi2.write(\"var int: ct;\\n\\n\")\n",
    "    archi2.write(\"constraint ct= \")\n",
    "    for i in range (0,n):\n",
    "        archi1.write(\"x\"+str(i+1))\n",
    "        archi2.write(\"1*x\"+str(i+1))\n",
    "        if i+1<n:\n",
    "            archi1.write(\" + \")\n",
    "            archi2.write(\" + \")\n",
    "        elif i+1==n:\n",
    "            archi1.write(\";\")\n",
    "            archi2.write(\";\")\n",
    "    archi1.write(\"\\n\")\n",
    "    archi2.write(\"\\n\\n\")\n",
    "    for i in range (1,z+1):\n",
    "        v=[]\n",
    "        archi2.write(\"constraint \")\n",
    "        for j in range(random.randint(mn,mv),0,-1):\n",
    "            flag=0\n",
    "            while flag==0:\n",
    "                s=random.randint(1,n)\n",
    "                if s not in v:\n",
    "                    v.append(s)\n",
    "                    flag=1\n",
    "                    if j==1:\n",
    "                        archi1.write(\"x\"+str(s)+\" = 1;\\n\")\n",
    "                        archi2.write(\"x\"+str(s)+\" = 1;\\n\")\n",
    "                        archi3.write(str(s)+\"\\n\")\n",
    "                    else:\n",
    "                        archi1.write(\"x\"+str(s)+\" + \")\n",
    "                        archi2.write(\"x\"+str(s)+\" + \")\n",
    "                        archi3.write(str(s)+\",\")\n",
    "    archi1.write(\"bin \")\n",
    "    archi2.write(\"\\nsolve satisfy;\")\n",
    "    for i in range (0,n):\n",
    "        archi1.write(\"x\"+str(i+1))\n",
    "        if i+1<n:\n",
    "            archi1.write(\", \")\n",
    "        elif i+1==n:\n",
    "            archi1.write(\";\")\n",
    "    archi1.close()\n",
    "    archi2.close()\n",
    "    archi3.close()"
   ]
  },
  {
   "cell_type": "markdown",
   "id": "fba46a27-6869-4d63-8f94-880bc9298e13",
   "metadata": {},
   "source": [
    "#### Función que crea una lista con las restricciones "
   ]
  },
  {
   "cell_type": "code",
   "execution_count": null,
   "id": "b96a5297-765d-4309-b83e-89a8f9aee2b7",
   "metadata": {},
   "outputs": [],
   "source": [
    "def crear_lista_restricciones(archivo):\n",
    "    lista=[]\n",
    "    arch=open(archivo,\"r\")\n",
    "    while arch:\n",
    "        linea=arch.readline()\n",
    "        if linea ==\"\":\n",
    "            break\n",
    "        x=linea.strip().split(\",\")\n",
    "        y=list(map(int,x))\n",
    "        z=sorted(y)\n",
    "        lista.append(z)\n",
    "    arch.close()\n",
    "    return(lista)"
   ]
  },
  {
   "cell_type": "markdown",
   "id": "b882c2a5-2448-468a-8d23-b7005d353dc6",
   "metadata": {
    "tags": []
   },
   "source": [
    "#### Funciones auxiliares para ejecutar Hill Climbing"
   ]
  },
  {
   "cell_type": "code",
   "execution_count": null,
   "id": "8ff798d7-db3c-47f2-8cd6-2ef3ada16db3",
   "metadata": {},
   "outputs": [],
   "source": [
    "def change(v,i):\n",
    "    v[i]=(v[i]+1)%2\n",
    "\n",
    "def restriccion(r,v): # x11+x2+x4=1    [[11,2,4],[]] r=[], v=[]\n",
    "    sum=0\n",
    "    for i in r:\n",
    "        sum=sum+v[i-1]\n",
    "    return sum"
   ]
  },
  {
   "cell_type": "markdown",
   "id": "f5ced963-f267-41d5-9a07-95e8911e6070",
   "metadata": {},
   "source": [
    "#### Complemento simple"
   ]
  },
  {
   "cell_type": "code",
   "execution_count": null,
   "id": "b417eb1d-ee2e-455e-a4fa-c0e35ef70fb3",
   "metadata": {},
   "outputs": [],
   "source": [
    "def complsimple(s,v):\n",
    "    for i in range(0,len(s)):\n",
    "        c=list(s)\n",
    "        change(c,i)\n",
    "        v.append(list(c))"
   ]
  },
  {
   "cell_type": "markdown",
   "id": "5c6c9478-9f56-456e-9542-d1d9f1c7f19c",
   "metadata": {},
   "source": [
    "#### Hill Climbing 1 - la primera que mejora, complemento simple"
   ]
  },
  {
   "cell_type": "code",
   "execution_count": null,
   "id": "d957cd9f-8895-401b-bda0-70deda2eab4c",
   "metadata": {},
   "outputs": [],
   "source": [
    "def hillclimbing(s,r,n,best):\n",
    "    flag=0  \n",
    "    a=0\n",
    "    best=[s,sum(s)]\n",
    "    flag2=1                      \n",
    "    while flag==0 and a<n:\n",
    "        v=[]\n",
    "        flag=1\n",
    "        sa=list(best[0])\n",
    "        complsimple(best[0],v)\n",
    "        for j in v:\n",
    "            flag2=1\n",
    "            for i in r:\n",
    "                  if restriccion(i,j)!=1:\n",
    "                        flag2=0\n",
    "            if flag2==1:\n",
    "                if sum(j)<best[1]:\n",
    "                    best=[j,sum(j)]\n",
    "                    flag=0\n",
    "                    break \n",
    "        a=a+1\n",
    "    return(best)"
   ]
  },
  {
   "cell_type": "markdown",
   "id": "0432518b-a6d5-4bbb-ae74-7c90d78e0602",
   "metadata": {},
   "source": [
    "#### Hill Climbing 2 - Solucion que mas mejora, complemento simple"
   ]
  },
  {
   "cell_type": "code",
   "execution_count": null,
   "id": "f922c9f3-201d-45d9-91d0-225e46b7aa34",
   "metadata": {},
   "outputs": [],
   "source": [
    "def hillclimbing_2(s,r,n,best):    \n",
    "    flag=0\n",
    "    a=0\n",
    "    best=[s,sum(s)]\n",
    "    flag2=1\n",
    "    while flag==0 and a<n:\n",
    "        v=[]\n",
    "        flag=1\n",
    "        complsimple(best[0],v)\n",
    "        for j in v:\n",
    "            flag2=1\n",
    "            for i in r:\n",
    "                  if restriccion(i,j)!=1:\n",
    "                        flag2=0\n",
    "            if flag2==1:\n",
    "                if sum(j)<best[1]:\n",
    "                    best=[j,sum(j)]\n",
    "                    flag=0\n",
    "        a=a+1\n",
    "    return(best)"
   ]
  },
  {
   "cell_type": "markdown",
   "id": "1df68dc9-571e-4296-848c-605ac424b6db",
   "metadata": {},
   "source": [
    "#### Complemento doble"
   ]
  },
  {
   "cell_type": "code",
   "execution_count": null,
   "id": "ae605a98-4954-4c22-9019-cf563618f7a6",
   "metadata": {},
   "outputs": [],
   "source": [
    "def compldoble(s,vd):\n",
    "    for i in range(0,len(s)):\n",
    "            for j in range (i+1,len(s)):\n",
    "                    c=list(s)\n",
    "                    change(c,i)\n",
    "                    change(c,j)\n",
    "                    vd.append(c)\n",
    "    complsimple(s,vd)"
   ]
  },
  {
   "cell_type": "markdown",
   "id": "1d958fa3-1a6e-46c0-9cda-fcfa457d510b",
   "metadata": {},
   "source": [
    "#### Hill Climbing 3 - Primera que mejora, complemento doble"
   ]
  },
  {
   "cell_type": "code",
   "execution_count": null,
   "id": "2329e10e-9725-452a-98e1-7ca093ace12e",
   "metadata": {},
   "outputs": [],
   "source": [
    "def hillclimbing_3(s,r,n,best):  \n",
    "    flag=0\n",
    "    a=0\n",
    "    best=[s,sum(s)]                   \n",
    "    flag2=1\n",
    "    while flag==0 and a<n:\n",
    "        v=[]\n",
    "        flag=1\n",
    "        compldoble(best[0],v)\n",
    "        for j in v:\n",
    "            flag2=1\n",
    "            for i in r:\n",
    "                  if restriccion(i,j)!=1:\n",
    "                        flag2=0\n",
    "            if flag2==1:\n",
    "                if sum(j)<best[1]:\n",
    "                    best=[j,sum(j)]\n",
    "                    flag=0\n",
    "                    break \n",
    "        a=a+1\n",
    "    return(best)"
   ]
  },
  {
   "cell_type": "markdown",
   "id": "aa2acc2a-9c89-4759-9795-4f69cf3a32fc",
   "metadata": {},
   "source": [
    "#### Hill Climbing 4 - La que más mejora, complemento doble"
   ]
  },
  {
   "cell_type": "code",
   "execution_count": null,
   "id": "cff9ad79-6b22-4649-8333-ccdbf66f2341",
   "metadata": {},
   "outputs": [],
   "source": [
    "def hillclimbing_4(s,r,n,best):\n",
    "    flag=0\n",
    "    a=0\n",
    "    flag2=1\n",
    "    for i in r:\n",
    "           if restriccion(i,s)!=1:\n",
    "                flag2=0\n",
    "    if flag2==1:\n",
    "            best=[s,sum(s)]\n",
    "    else:\n",
    "            best=[s,sum(s)*10000000]\n",
    "    flag2=1\n",
    "    while flag==0 and a<n: #la que más mejora, complemento doble\n",
    "        v=[]\n",
    "        flag=1\n",
    "        compldoble(best[0],v)\n",
    "        for j in v:\n",
    "            flag2=1\n",
    "            for i in r:\n",
    "                  if restriccion(i,j)!=1:\n",
    "                        flag2=0\n",
    "            if flag2==1:\n",
    "                if sum(j)<best[1]:\n",
    "                    best=[list(j),sum(j)]\n",
    "                    flag=0\n",
    "        a=a+1\n",
    "    return(best)"
   ]
  },
  {
   "cell_type": "markdown",
   "id": "0736c50f-52b3-4ae4-93e0-8aa4aba4f82c",
   "metadata": {},
   "source": [
    "#### Tiempo de ejecución Hill Climbing 1, 2, 3 y 4."
   ]
  },
  {
   "cell_type": "code",
   "execution_count": null,
   "id": "9a37a061-1ad5-40b5-9b18-51177b60dcf6",
   "metadata": {},
   "outputs": [],
   "source": [
    "def medirtiempo(s,r,n,lista):\n",
    "    tiempos=[]\n",
    "    resultados=[]\n",
    "    start=timer()\n",
    "    a=hillclimbing(s,r,n/2,lista)\n",
    "    end=timer()\n",
    "    start1=timer()\n",
    "    b=hillclimbing_2(s,r,n/2,lista)\n",
    "    end1=timer()\n",
    "    start2=timer()\n",
    "    c=hillclimbing_3(s,r,n/2,lista)\n",
    "    end2=timer()\n",
    "    start3=timer()\n",
    "    d=hillclimbing_4(s,r,n/2,lista)\n",
    "    end3=timer()\n",
    "    resultados.append(a[1])\n",
    "    resultados.append(b[1])\n",
    "    resultados.append(c[1])\n",
    "    resultados.append(d[1])\n",
    "    tiempos.append(float(str(end-start)))\n",
    "    tiempos.append(float(str(end1-start1)))\n",
    "    tiempos.append(float(str(end2-start2)))\n",
    "    tiempos.append(float(str(end3-start3)))\n",
    "    return tiempos, resultados"
   ]
  },
  {
   "cell_type": "markdown",
   "id": "e26bc577-46b7-4a6a-858b-6330a42d1bfe",
   "metadata": {},
   "source": [
    "#### Permutar solución factible."
   ]
  },
  {
   "cell_type": "code",
   "execution_count": null,
   "id": "0449c6ee-6954-4cef-abc6-c1fd0fdd8ed0",
   "metadata": {},
   "outputs": [],
   "source": [
    "def permutardatos(s,r,datos):\n",
    "    for b in range(0,int(datos/3)):\n",
    "        a=random.randint(0,datos)\n",
    "        flag=1\n",
    "        for i in r:\n",
    "            if a+1 in i:\n",
    "                flag=0\n",
    "                break\n",
    "        if flag==1 and a!=datos:\n",
    "            s[a]=1\n",
    "    return(sum(s))"
   ]
  }
 ],
 "metadata": {
  "kernelspec": {
   "display_name": "Python 3 (ipykernel)",
   "language": "python",
   "name": "python3"
  },
  "language_info": {
   "codemirror_mode": {
    "name": "ipython",
    "version": 3
   },
   "file_extension": ".py",
   "mimetype": "text/x-python",
   "name": "python",
   "nbconvert_exporter": "python",
   "pygments_lexer": "ipython3",
   "version": "3.10.0"
  }
 },
 "nbformat": 4,
 "nbformat_minor": 5
}
